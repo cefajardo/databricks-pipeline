{
 "cells": [
  {
   "cell_type": "markdown",
   "metadata": {
    "application/vnd.databricks.v1+cell": {
     "cellMetadata": {},
     "inputWidgets": {},
     "nuid": "a28a159f-a3c5-4f7a-bf3a-e32243c99a23",
     "showTitle": false,
     "tableResultSettingsMap": {},
     "title": ""
    }
   },
   "source": [
    "#Developing and running a LakeFlow Declarative Pipeline\n",
    "\n",
    "##Objectives\n",
    "\n",
    "##Steps\n",
    "\n",
    "### 0. Prepare for the lab\n",
    "\n",
    "#### Connect repository\n",
    "\n",
    "Create Git Credentials on Databricks Settings\n",
    "\n",
    "Import repo\n",
    "\n",
    "#### Prepare databricks environment\n",
    "Run prepare_lab.sql\n",
    "\n",
    "Create the databases for medallion architecture\n",
    "\n",
    "\n",
    "### 1. Create new pipeline\n",
    "\n",
    "#### Create property source\n",
    "Pipeline settings - Configuration\n",
    "\n",
    "Key: source - Value: full volume path (/Volumes/workspace/default/default_volume)\n",
    "\n",
    "#### Develop orders_pipeline.sql\n",
    "\n",
    "A. Create the bronze streaming table\n",
    "\n",
    "B. Create the silver streaming table\n",
    "\n",
    "  Be carefull with FROM STREAM keyword\n",
    "\n",
    "C. Create the materialized view aggregation from the orders_silver table\n",
    "\n",
    "##### Add constraints in orders_pipeline.sql\n",
    "\n",
    "Check for 'Y' or 'N' - Only warning\n",
    "\n",
    "CONSTRAINT valid_notification EXPECT (notifications IN ('Y', 'N'))\n",
    "\n",
    "Use 'x'for example\n",
    "\n",
    "Drop row if not a valid date. \n",
    "\n",
    "CONSTRAINT valid_date EXPECT (order_timestamp > '2021-12-25') ON VIOLATION DROP ROW\n",
    "\n",
    "Fail pipeline if customer_id is null\n",
    "\n",
    "CONSTRAINT valid_customer_id EXPECT (customer_id IS NOT NULL) ON VIOLATION FAIL UPDATE\n",
    "\n",
    "#### Develop status_pipeline.sql\n",
    "\n",
    "Create a notebook status_pipeline.sql to ingest the data related to the orders status.\n",
    "\n",
    "#### Develop customers_pipeline\n",
    "\n",
    "Create a notebook customers_pipeline to ingest the data related to the orders status.\n",
    "\n",
    "\n"
   ]
  }
 ],
 "metadata": {
  "application/vnd.databricks.v1+notebook": {
   "computePreferences": null,
   "dashboards": [],
   "environmentMetadata": {
    "base_environment": "",
    "environment_version": "3"
   },
   "inputWidgetPreferences": null,
   "language": "python",
   "notebookMetadata": {
    "pythonIndentUnit": 4
   },
   "notebookName": "Building a pipeline",
   "widgets": {}
  },
  "language_info": {
   "name": "python"
  }
 },
 "nbformat": 4,
 "nbformat_minor": 0
}
