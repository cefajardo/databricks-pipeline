{
 "cells": [
  {
   "cell_type": "markdown",
   "metadata": {
    "application/vnd.databricks.v1+cell": {
     "cellMetadata": {},
     "inputWidgets": {},
     "nuid": "a28a159f-a3c5-4f7a-bf3a-e32243c99a23",
     "showTitle": false,
     "tableResultSettingsMap": {},
     "title": ""
    }
   },
   "source": [
    "#Developing and running a LakeFlow Declarative Pipeline\n",
    "\n",
    "##Objectives\n",
    "\n",
    "##Steps\n",
    "\n",
    "### 0. Prepare for the lab\n",
    "Run prepare_lab.sql\n",
    "\n",
    "Create the databases for medallion architecture\n",
    "\n",
    "### 1. Create new pipeline\n",
    "\n",
    "#### Create property source\n",
    "Pipeline settings - Configuration\n",
    "\n",
    "Key: source - Value: full volume path (/Volumes/workspace/default/default_volume)\n",
    "\n",
    "#### Develop orders_pipeline.sql\n",
    "\n",
    "A. Create the bronze streaming table\n",
    "\n",
    "B. Create the silver streaming table\n",
    "\n",
    "  Be carefull with FROM STREAM keyword\n",
    "\n",
    "C. Create the materialized view aggregation from the orders_silver table\n",
    "\n",
    "#### Add constraints in orders_pipeline.sql\n",
    "\n",
    "Check for 'Y' or 'N' - Only warning\n",
    "\n",
    "CONSTRAINT valid_notification EXPECT (notifications IN ('Y', 'N'))\n",
    "\n",
    "Use 'x'for example\n",
    "\n",
    "Drop row if not a valid date. \n",
    "\n",
    "CONSTRAINT valid_date EXPECT (order_timestamp > '2021-12-25') ON VIOLATION DROP ROW\n",
    "\n",
    "Fail pipeline if customer_id is null\n",
    "\n",
    "CONSTRAINT valid_customer_id EXPECT (customer_id IS NOT NULL) ON VIOLATION FAIL UPDATE\n"
   ]
  },
  {
   "cell_type": "code",
   "execution_count": 0,
   "metadata": {
    "application/vnd.databricks.v1+cell": {
     "cellMetadata": {},
     "inputWidgets": {},
     "nuid": "4992cc73-829c-4fec-8641-7bc53a9221d5",
     "showTitle": false,
     "tableResultSettingsMap": {},
     "title": ""
    }
   },
   "outputs": [],
   "source": []
  }
 ],
 "metadata": {
  "application/vnd.databricks.v1+notebook": {
   "computePreferences": null,
   "dashboards": [],
   "environmentMetadata": {
    "base_environment": "",
    "environment_version": "3"
   },
   "inputWidgetPreferences": null,
   "language": "python",
   "notebookMetadata": {
    "pythonIndentUnit": 4
   },
   "notebookName": "Building a pipeline",
   "widgets": {}
  },
  "language_info": {
   "name": "python"
  }
 },
 "nbformat": 4,
 "nbformat_minor": 0
}
