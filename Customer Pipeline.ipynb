{
 "cells": [
  {
   "cell_type": "markdown",
   "metadata": {
    "application/vnd.databricks.v1+cell": {
     "cellMetadata": {},
     "inputWidgets": {},
     "nuid": "6ee401fe-0567-46e4-aafb-b21c14c9adbc",
     "showTitle": false,
     "tableResultSettingsMap": {},
     "title": ""
    }
   },
   "source": [
    "#Customer Pipeline"
   ]
  },
  {
   "cell_type": "markdown",
   "metadata": {
    "application/vnd.databricks.v1+cell": {
     "cellMetadata": {},
     "inputWidgets": {},
     "nuid": "0f070314-1495-4ae6-9d8e-84f8be046702",
     "showTitle": false,
     "tableResultSettingsMap": {},
     "title": ""
    }
   },
   "source": [
    "## JSON -> BRONZE"
   ]
  },
  {
   "cell_type": "code",
   "execution_count": 0,
   "metadata": {
    "application/vnd.databricks.v1+cell": {
     "cellMetadata": {},
     "inputWidgets": {},
     "nuid": "c8184513-1a91-4a31-b40b-e0212a6946c1",
     "showTitle": false,
     "tableResultSettingsMap": {},
     "title": ""
    }
   },
   "outputs": [],
   "source": [
    "CREATE STREAMING TABLE 1_bronze_db.customers_bronze_raw\n",
    "  COMMENT \"Raw data from customers CDC feed\"\n",
    "  TBLPROPERTIES (\n",
    "    \"quality\" = \"bronze\"\n",
    "  )\n",
    "AS\n",
    "SELECT\n",
    "  *, \n",
    "  current_timestamp() AS processing_time,\n",
    "  _metadata.file_name as source_file\n",
    "FROM STREAM read_files(\n",
    "  \"${source}/customers\",\n",
    "  format => \"json\"\n",
    ");"
   ]
  },
  {
   "cell_type": "markdown",
   "metadata": {
    "application/vnd.databricks.v1+cell": {
     "cellMetadata": {},
     "inputWidgets": {},
     "nuid": "dbf3a177-5257-4e34-8031-38aabb6c8e8e",
     "showTitle": false,
     "tableResultSettingsMap": {},
     "title": ""
    }
   },
   "source": [
    "##Quality enforcement"
   ]
  },
  {
   "cell_type": "code",
   "execution_count": 0,
   "metadata": {
    "application/vnd.databricks.v1+cell": {
     "cellMetadata": {},
     "inputWidgets": {},
     "nuid": "77b154fc-5001-454d-b7f4-ca5dc718b12d",
     "showTitle": false,
     "tableResultSettingsMap": {},
     "title": ""
    }
   },
   "outputs": [],
   "source": [
    "CREATE STREAMING TABLE 1_bronze_db.customers_bronze_clean\n",
    "(\n",
    "  CONSTRAINT valid_id EXPECT (customer_id IS NOT NULL) ON VIOLATION FAIL UPDATE,\n",
    "  CONSTRAINT valid_operation EXPECT (operation IS NOT NULL) ON VIOLATION DROP ROW,\n",
    "  CONSTRAINT valid_name EXPECT (name IS NOT NULL OR operation = \"DELETE\"),\n",
    "  CONSTRAINT valid_address EXPECT (\n",
    "    ( address IS NOT NULL and city IS NOT NULL and\n",
    "      state IS NOT NULL ) OR\n",
    "    operation = \"DELETE\"),\n",
    "  CONSTRAINT valid_email EXPECT (\n",
    "    rlike(email, '^[a-zA-Z0-9_\\\\-\\\\.]+)@([a-zA-Z0-9_\\\\-\\\\.]+)\\\\.([a-zA-Z]{2,5})$') OR\n",
    "    operation = \"DELETE\") ON VIOLATION DROP ROW\n",
    ")\n",
    "COMMENT 'Raw customer data'\n",
    "AS\n",
    "SELECT *, CAST(from_unixtime(timestamp) AS timestamp) AS timestamp_datetime\n",
    "FROM STREAM 1_bronze_db.customers_bronze_raw\n",
    "\n"
   ]
  },
  {
   "cell_type": "markdown",
   "metadata": {
    "application/vnd.databricks.v1+cell": {
     "cellMetadata": {},
     "inputWidgets": {},
     "nuid": "4bdac26b-f968-4779-9e0b-532ab9a98f64",
     "showTitle": false,
     "tableResultSettingsMap": {},
     "title": ""
    }
   },
   "source": [
    "### Processing CDC Data. BRONZE => SILVER"
   ]
  },
  {
   "cell_type": "code",
   "execution_count": 0,
   "metadata": {
    "application/vnd.databricks.v1+cell": {
     "cellMetadata": {},
     "inputWidgets": {},
     "nuid": "ea8ee160-b483-43ec-bda4-f5cc7ae1873e",
     "showTitle": false,
     "tableResultSettingsMap": {},
     "title": ""
    }
   },
   "outputs": [],
   "source": [
    "-- Create the streaming table without schema\n",
    "CREATE OR REFRESH STREAMING TABLE 2_silver_db.customers_silver\n",
    "  COMMENT \"SDC Type 2 Historical (Customer Data)\";\n",
    "\n",
    "-- Apply CDC changes\n",
    "APPLY CHANGES INTO 2_silver_db.customers_silver\n",
    "FROM STREAM 1_bronze_db.customers_bronze_clean\n",
    "KEYS (customer_id)\n",
    "APPLY AS DELETE WHEN operation = \"DELETE\"\n",
    "SEQUENCE BY timestamp_datetime\n",
    "COLUMNS * EXCEPT (timestamp, _rescued_data, operation)\n",
    "STORED AS SCD TYPE 2;\n"
   ]
  },
  {
   "cell_type": "markdown",
   "metadata": {
    "application/vnd.databricks.v1+cell": {
     "cellMetadata": {},
     "inputWidgets": {},
     "nuid": "4e229010-5666-408c-ae52-3bfad3fec5af",
     "showTitle": false,
     "tableResultSettingsMap": {},
     "title": ""
    }
   },
   "source": [
    "### SILVER => GOLD"
   ]
  },
  {
   "cell_type": "code",
   "execution_count": 0,
   "metadata": {
    "application/vnd.databricks.v1+cell": {
     "cellMetadata": {},
     "inputWidgets": {},
     "nuid": "0d3e52c5-3d49-4386-a5c8-579f61444ba4",
     "showTitle": false,
     "tableResultSettingsMap": {},
     "title": ""
    }
   },
   "outputs": [],
   "source": [
    "CREATE OR REFRESH MATERIALIZED VIEW 3_gold_db.current_customers_gold\n",
    "  COMMENT \"Current customers list of active customers\"\n",
    "AS\n",
    "SELECT \n",
    "  * EXCEPT (processing_time),\n",
    "  current_timestamp() AS updated_at\n",
    "FROM STREAM 2_silver_db.customers_silver\n",
    "WHERE `__END_AT` IS NULL;"
   ]
  }
 ],
 "metadata": {
  "application/vnd.databricks.v1+notebook": {
   "computePreferences": null,
   "dashboards": [],
   "environmentMetadata": {
    "base_environment": "",
    "environment_version": "3"
   },
   "inputWidgetPreferences": null,
   "language": "sql",
   "notebookMetadata": {
    "pythonIndentUnit": 4
   },
   "notebookName": "Customer Pipeline",
   "widgets": {}
  },
  "language_info": {
   "name": "sql"
  }
 },
 "nbformat": 4,
 "nbformat_minor": 0
}
