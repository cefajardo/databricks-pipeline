{
 "cells": [
  {
   "cell_type": "markdown",
   "metadata": {
    "application/vnd.databricks.v1+cell": {
     "cellMetadata": {},
     "inputWidgets": {},
     "nuid": "f90da99a-ef9e-45f0-b3e7-3c561cfa30b3",
     "showTitle": false,
     "tableResultSettingsMap": {},
     "title": ""
    }
   },
   "source": [
    "#Status Pipeline\n",
    "\n",
    "1. Ingest status data from json files to bronze streaming table\n",
    "\n",
    "2. Create streaming table for silver data \n",
    "\n",
    "3. Create materialized view for gold data joining status and orders data\n",
    "\n",
    "4. Create materialized views for orders cancelled and orders delivered"
   ]
  },
  {
   "cell_type": "markdown",
   "metadata": {
    "application/vnd.databricks.v1+cell": {
     "cellMetadata": {},
     "inputWidgets": {},
     "nuid": "c1b61521-436c-4c31-837c-96106b3ba3bd",
     "showTitle": false,
     "tableResultSettingsMap": {},
     "title": ""
    }
   },
   "source": [
    "## A. Ingest JSON -> Bronze"
   ]
  },
  {
   "cell_type": "code",
   "execution_count": 0,
   "metadata": {
    "application/vnd.databricks.v1+cell": {
     "cellMetadata": {},
     "inputWidgets": {},
     "nuid": "be547055-d9fa-4e9e-9488-49b0fbeec9a2",
     "showTitle": false,
     "tableResultSettingsMap": {},
     "title": ""
    }
   },
   "outputs": [],
   "source": [
    "CREATE OR REFRESH STREAMING TABLE 1_bronze_db.status_bronze\n",
    "  COMMENT \"Ingest status data from JSON files\"\n",
    "  TBLPROPERTIES (\n",
    "    \"quality\" = \"bronze\"\n",
    "    --,\"pipelines.reset.allowed\" = false\n",
    "  )\n",
    "AS\n",
    "SELECT\n",
    "  *,\n",
    "  current_timestamp() processing_time,\n",
    "  _metadata.file_name AS source_file\n",
    "FROM STREAM read_files(\n",
    "    \"${source}/status\",\n",
    "    format => \"json\" );"
   ]
  },
  {
   "cell_type": "markdown",
   "metadata": {
    "application/vnd.databricks.v1+cell": {
     "cellMetadata": {},
     "inputWidgets": {},
     "nuid": "a2ad783b-17ca-4a02-9a81-fdf63c76017e",
     "showTitle": false,
     "tableResultSettingsMap": {},
     "title": ""
    }
   },
   "source": [
    "## B. Bronze => Silver"
   ]
  },
  {
   "cell_type": "code",
   "execution_count": 0,
   "metadata": {
    "application/vnd.databricks.v1+cell": {
     "cellMetadata": {},
     "inputWidgets": {},
     "nuid": "3ca8e5c9-63fa-4272-98cc-0e7380003ae0",
     "showTitle": false,
     "tableResultSettingsMap": {},
     "title": ""
    }
   },
   "outputs": [],
   "source": [
    "CREATE OR REFRESH STREAMING TABLE 2_silver_db.status_silver\n",
    "  (\n",
    "    CONSTRAINT valid_timestamp EXPECT (order_status_timestamp > \"2021-12-25\") ON VIOLATION DROP ROW,\n",
    "    CONSTRAINT valid_status EXPECT (order_status IN ('on the way', 'cancelled', 'return cancelled', 'delivered', 'return processed', 'placed', 'preparing'))\n",
    "  )\n",
    "  COMMENT \"Order with each status and timestamp\"\n",
    "  TBLPROPERTIES ( \"quality\" = \"silver\" )\n",
    "AS\n",
    "SELECT\n",
    "  order_id,\n",
    "  order_status,\n",
    "  timestamp(status_timestamp) AS order_status_timestamp\n",
    "FROM STREAM 1_bronze_db.status_bronze;"
   ]
  },
  {
   "cell_type": "markdown",
   "metadata": {
    "application/vnd.databricks.v1+cell": {
     "cellMetadata": {},
     "inputWidgets": {},
     "nuid": "55c26967-bae3-4357-b0a2-3ac52985b1e3",
     "showTitle": false,
     "tableResultSettingsMap": {},
     "title": ""
    }
   },
   "source": [
    "## C. Join two streaming tables"
   ]
  },
  {
   "cell_type": "code",
   "execution_count": 0,
   "metadata": {
    "application/vnd.databricks.v1+cell": {
     "cellMetadata": {},
     "inputWidgets": {},
     "nuid": "3fdd8cf9-865c-4757-8b31-170065b9785f",
     "showTitle": false,
     "tableResultSettingsMap": {},
     "title": ""
    }
   },
   "outputs": [],
   "source": [
    "CREATE OR REFRESH MATERIALIZED VIEW 3_gold_db.full_order_info_gold\n",
    "  COMMENT \"Joining the orders and order status silver tables to view full order info\"\n",
    "  TBLPROPERTIES ( \"quality\" = \"gold\" )\n",
    "AS\n",
    "SELECT\n",
    "  orders.order_id,\n",
    "  orders.order_timestamp,\n",
    "  status.order_status,\n",
    "  status.order_status_timestamp\n",
    "FROM  2_silver_db.status_silver AS status\n",
    "JOIN  2_silver_db.orders_silver AS orders\n",
    "ON orders.order_id = status.order_id;"
   ]
  },
  {
   "cell_type": "markdown",
   "metadata": {
    "application/vnd.databricks.v1+cell": {
     "cellMetadata": {},
     "inputWidgets": {},
     "nuid": "8ce61306-9391-40a8-876f-f090f29b7ec8",
     "showTitle": false,
     "tableResultSettingsMap": {},
     "title": ""
    }
   },
   "source": [
    "## D. Create Materialized Views for Cancelling and Delivered Orders"
   ]
  },
  {
   "cell_type": "code",
   "execution_count": 0,
   "metadata": {
    "application/vnd.databricks.v1+cell": {
     "cellMetadata": {},
     "inputWidgets": {},
     "nuid": "42026af0-0e42-4c0e-9784-84012cf976c1",
     "showTitle": false,
     "tableResultSettingsMap": {},
     "title": ""
    }
   },
   "outputs": [],
   "source": [
    "-- All cancelled orders MV\n",
    "CREATE OR REFRESH MATERIALIZED VIEW 3_gold_db.cancelled_orders_gold\n",
    "  COMMENT \"All cancelled orders\"\n",
    "  TBLPROPERTIES ( \"quality\" = \"gold\" )\n",
    "AS\n",
    "SELECT\n",
    "  order_id,\n",
    "  order_timestamp,\n",
    "  order_status,\n",
    "  order_status_timestamp,\n",
    "  datediff(\n",
    "    DAY,\n",
    "    order_timestamp,\n",
    "    order_status_timestamp\n",
    "  ) AS days_to_cancel\n",
    "FROM 3_gold_db.full_order_info_gold\n",
    "WHERE order_status = 'cancelled';\n",
    "\n",
    "-- All delivered orders MV\n",
    "CREATE OR REFRESH MATERIALIZED VIEW 3_gold_db.delivered_orders_gold\n",
    "  COMMENT \"All delivered orders\"\n",
    "  TBLPROPERTIES ( \"quality\" = \"gold\" )\n",
    "AS\n",
    "SELECT\n",
    "  order_id,\n",
    "  order_timestamp,\n",
    "  order_status,\n",
    "  order_status_timestamp,\n",
    "  datediff(\n",
    "    DAY,\n",
    "    order_timestamp,\n",
    "    order_status_timestamp\n",
    "  ) AS days_to_deliver\n",
    "FROM 3_gold_db.full_order_info_gold\n",
    "WHERE order_status = 'delivered';\n"
   ]
  }
 ],
 "metadata": {
  "application/vnd.databricks.v1+notebook": {
   "computePreferences": null,
   "dashboards": [],
   "environmentMetadata": {
    "base_environment": "",
    "environment_version": "3"
   },
   "inputWidgetPreferences": null,
   "language": "sql",
   "notebookMetadata": {
    "pythonIndentUnit": 4
   },
   "notebookName": "status_pipeline.sql",
   "widgets": {}
  },
  "language_info": {
   "name": "sql"
  }
 },
 "nbformat": 4,
 "nbformat_minor": 0
}
